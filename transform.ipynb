{
 "cells": [
  {
   "cell_type": "code",
   "execution_count": null,
   "metadata": {},
   "outputs": [],
   "source": [
    "import h5py\n",
    "\n",
    "with h5py.File(\"data/nytimes/nytimes-256-angular.hdf5\", \"r\") as f:\n",
    "    if \"data/nytimes/nytimes-256-angular.hdf5\"[-5:] == \".hdf5\":\n",
    "        print(\"data/nytimes/nytimes-256-angular.hdf5\"[-5:])\n",
    "        # List all groups\n",
    "        print(\"Keys: %s\" % f.keys())\n",
    "        distances = list(f.keys())[0]\n",
    "        neighbors = list(f.keys())[1]\n",
    "        test = list(f.keys())[2]\n",
    "        train = list(f.keys())[3]\n",
    "\n",
    "        # Get the data\n",
    "        train = list(f[train])\n",
    "        distances = list(f[distances])\n",
    "        neighbors = list(f[neighbors])\n",
    "        test = list(f[test])"
   ]
  },
  {
   "cell_type": "code",
   "execution_count": 4,
   "metadata": {},
   "outputs": [
    {
     "data": {
      "text/plain": [
       "290000"
      ]
     },
     "execution_count": 4,
     "metadata": {},
     "output_type": "execute_result"
    }
   ],
   "source": [
    "len(train)"
   ]
  },
  {
   "cell_type": "code",
   "execution_count": null,
   "metadata": {},
   "outputs": [],
   "source": [
    "from collections import defaultdict\n",
    "\n",
    "f = open(\"data/word2vec/model.txt\", encoding=\"ISO-8859-1\")\n",
    "lines = f.readlines()\n",
    "\n",
    "word2vec = defaultdict(list) #dictionary of words to embedding\n",
    "for i in range(1, 10):  # use len(lines) for the whole table, testing on first 1000000\n",
    "    line = lines[i].split(\" \")\n",
    "    word2vec[line[0]] = line[1:-1]\n",
    "    embedding_dim = len(line) - 1\n",
    "\n",
    "headline_file = open(\"data/ABCHeadlines/abcnews-date-text.csv\")\n",
    "headlines_lines = headline_file.readlines()\n",
    "\n",
    "# print(word2vec)\n",
    "\n",
    "keys = []\n",
    "embeddings = []\n",
    "for i in range(1, 10):\n",
    "    line = headlines_lines[i].split(\",\")\n",
    "    print(line)\n",
    "    keys.append(i)\n",
    "    headline_embedding = []\n",
    "    sums = [0] * embedding_dim\n",
    "    for word in line[1].split(\" \"):\n",
    "        word_embedding = word2vec[word] \n",
    "        print(word_embedding)\n",
    "        for i, val in enumerate(word_embedding):\n",
    "            sums[i] += val\n",
    "    for val in sums:\n",
    "        headline_embedding.append(val / len(sums))\n",
    "    embeddings.append(headline_embedding)"
   ]
  },
  {
   "cell_type": "code",
   "execution_count": null,
   "metadata": {},
   "outputs": [],
   "source": []
  }
 ],
 "metadata": {
  "interpreter": {
   "hash": "ec45d513f91af3fa73d2a6491e4593b2144b3268bc664facfb4253809511fada"
  },
  "kernelspec": {
   "display_name": "Python 3.8.5 64-bit ('myenv': conda)",
   "name": "python3"
  },
  "language_info": {
   "codemirror_mode": {
    "name": "ipython",
    "version": 3
   },
   "file_extension": ".py",
   "mimetype": "text/x-python",
   "name": "python",
   "nbconvert_exporter": "python",
   "pygments_lexer": "ipython3",
   "version": "3.8.5"
  },
  "orig_nbformat": 4
 },
 "nbformat": 4,
 "nbformat_minor": 2
}
