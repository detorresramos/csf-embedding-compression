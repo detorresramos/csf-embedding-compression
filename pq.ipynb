{
 "cells": [
  {
   "cell_type": "markdown",
   "source": [
    "# Product Quantization"
   ],
   "metadata": {}
  },
  {
   "cell_type": "code",
   "execution_count": 1,
   "source": [
    "# English CoNLL17 corpus, Word2Vec Continuous Skipgram, 4027169 word embeddings \n",
    "# from http://vectors.nlpl.eu/repository/\n",
    "f = open('data/word2vec/model.txt', encoding = \"ISO-8859-1\")\n",
    "lines = f.readlines()"
   ],
   "outputs": [],
   "metadata": {}
  },
  {
   "cell_type": "code",
   "execution_count": 2,
   "source": [
    "print(len(lines))\n",
    "print(lines[0])\n",
    "print(lines[3])"
   ],
   "outputs": [
    {
     "output_type": "stream",
     "name": "stdout",
     "text": [
      "4027170\n",
      "4027169 100\n",
      "\n",
      "the -0.145301 -0.150899 0.389752 0.019979 0.209313 -0.059876 -0.037605 -0.191378 -0.492421 0.094606 0.471501 0.171619 -0.091895 -0.188857 -0.187415 0.102550 0.521365 0.492694 0.014640 0.324407 0.132155 0.392447 0.177873 -0.233233 -0.194923 -0.393363 0.018775 0.244165 -0.285453 -0.175422 -0.149823 -0.130606 -0.216950 0.308142 -0.192615 0.212360 0.090488 -0.229107 0.118502 0.217839 -0.379018 -0.042318 -0.315532 -0.186368 -0.028538 0.253762 0.487518 -0.055428 -0.239519 -0.209573 0.140636 -0.090901 -0.384449 0.447566 -0.184971 0.261921 0.440821 0.062585 0.181714 -0.252114 0.122724 0.015310 -0.143186 -0.209463 -0.174111 0.143348 0.295857 -0.156869 0.169965 0.038492 -0.122283 0.095772 0.314591 0.047793 -0.162416 -0.008667 -0.258904 0.129512 -0.086891 -0.131997 -0.256616 -0.071309 0.175144 0.060490 0.043357 0.224987 0.263239 0.236568 0.264060 0.109120 0.076898 0.172123 -0.248498 0.042334 0.053334 0.048210 0.239207 -0.083211 0.214255 -0.118595 \n",
      "\n"
     ]
    }
   ],
   "metadata": {}
  },
  {
   "cell_type": "code",
   "execution_count": 3,
   "source": [
    "import numpy as np\n",
    "\n",
    "keys = []\n",
    "embeddings = []\n",
    "for i in range(1, 100001): # use len(lines) for the whole table, testing on first 1000000\n",
    "    line = lines[i].split(\" \")\n",
    "    keys.append(line[0])\n",
    "    embeddings.append(line[1:-1])"
   ],
   "outputs": [],
   "metadata": {}
  },
  {
   "cell_type": "code",
   "execution_count": 4,
   "source": [
    "# keys = []\n",
    "# embeddings = []\n",
    "# with open(\"data/word2vec/model.txt\", encoding=\"ISO-8859-1\") as infile:\n",
    "#     first = True\n",
    "#     for line in infile:\n",
    "#         if first:\n",
    "#             first = False\n",
    "#         else:\n",
    "#             vector = line.split(\" \")\n",
    "#             keys.append(vector[0])\n",
    "#             embeddings.append(vector[1:-1])"
   ],
   "outputs": [],
   "metadata": {}
  },
  {
   "cell_type": "code",
   "execution_count": 5,
   "source": [
    "print(keys[:50]) # first 50 keys"
   ],
   "outputs": [
    {
     "output_type": "stream",
     "name": "stdout",
     "text": [
      "['</s>', ',', 'the', '.', 'of', 'and', 'to', 'a', 'in', '-', ')', '(', ':', 'for', 'is', '\"', 'on', 'i', 'that', 'with', 'it', 'was', 'by', 'as', \"'s\", 'at', 'you', 'this', 'from', 'are', 'be', 'or', 'he', 'have', 'not', 'an', 'but', 'his', 'all', ';', 'your', 'they', '...', 'one', 'we', '?', 'has', 'more', 'new', 'will']\n"
     ]
    }
   ],
   "metadata": {}
  },
  {
   "cell_type": "code",
   "execution_count": 6,
   "source": [
    "print(embeddings[-1]) # vector embedding example"
   ],
   "outputs": [
    {
     "output_type": "stream",
     "name": "stdout",
     "text": [
      "['-0.011130', '-0.166277', '-0.335784', '-0.034060', '0.112126', '0.709527', '-0.151773', '-0.015921', '0.301385', '0.371597', '0.323784', '0.737596', '-0.951111', '-0.443879', '0.698655', '-0.051131', '-0.332912', '0.026162', '0.864173', '-0.475362', '-0.022754', '0.523811', '-0.550746', '-0.296752', '-0.150318', '-0.628162', '-0.768323', '0.586387', '0.044368', '0.207910', '0.726342', '0.117722', '0.422958', '0.261466', '0.041171', '-0.275311', '0.431623', '0.334619', '0.309012', '0.352557', '0.401394', '0.888355', '-0.367747', '0.034386', '0.112629', '-0.121197', '-0.488737', '-0.359541', '-1.529603', '0.965922', '-0.243754', '-0.622826', '-0.042637', '0.479349', '-0.486154', '-0.071522', '0.692681', '-0.552566', '-0.364112', '-0.443844', '0.843079', '-0.089914', '0.093476', '-0.094506', '0.280253', '-0.252886', '0.237622', '-1.000755', '-0.277026', '0.215236', '0.007041', '-0.871734', '-0.088877', '-0.751233', '0.184925', '-0.221314', '-1.033797', '1.146206', '-0.396569', '-0.156766', '0.763063', '0.892775', '-0.198304', '-0.287837', '-0.036803', '1.012097', '0.293768', '0.239612', '0.912586', '0.638781', '-0.304495', '0.156352', '-0.180269', '0.158310', '-0.853440', '0.067910', '0.096153', '-0.025082', '0.153089', '0.529046']\n"
     ]
    }
   ],
   "metadata": {}
  },
  {
   "cell_type": "code",
   "execution_count": 25,
   "source": [
    "import faiss\n",
    "\n",
    "class FaissKMeans:\n",
    "    def __init__(self, n_clusters=8, n_init=10, max_iter=300):\n",
    "        self.n_clusters = n_clusters\n",
    "        self.n_init = n_init\n",
    "        self.max_iter = max_iter\n",
    "        self.kmeans = None\n",
    "        self.cluster_centers_ = None\n",
    "        self.inertia_ = None\n",
    "\n",
    "    def fit(self, X):\n",
    "        self.kmeans = faiss.Kmeans(d=X.shape[1],\n",
    "                                   k=self.n_clusters,\n",
    "                                   niter=self.max_iter,\n",
    "                                   nredo=self.n_init)\n",
    "        self.kmeans.train(X.astype(np.float32))\n",
    "        self.cluster_centers_ = self.kmeans.centroids\n",
    "        self.inertia_ = self.kmeans.obj[-1]\n",
    "\n",
    "    def predict(self, X):\n",
    "        return self.kmeans.index.search(X.astype(np.float32), 1)[1]"
   ],
   "outputs": [],
   "metadata": {}
  },
  {
   "cell_type": "code",
   "execution_count": 41,
   "source": [
    "import math\n",
    "from sklearn.metrics import silhouette_score\n",
    "\n",
    "def product_quantization(embeddings, M, k, verbose=False, silhouette_scoring=False, inertia_scoring=False):\n",
    "    \"\"\"\n",
    "    embeddings: embedding vectors\n",
    "    M: size of vector subsections\n",
    "    k: number of clusters for k-means clustering\n",
    "\n",
    "    Runs product quantization on the embeddings.\n",
    "    Returns each embedding as an array of integers, each representing the id of a centroid in that region\n",
    "    \"\"\"\n",
    "    # build split embeddings\n",
    "    # split_embeddings[i] -> list of vectors, each which represents the ith section of M units of embeddings\n",
    "    num_subsections = math.ceil(len(embeddings[0]) / M)\n",
    "    print(\n",
    "        f\"Splitting {len(embeddings)} embeddings of size {len(embeddings[0])} into {num_subsections} subsections of size {M}\")\n",
    "    split_embeddings = [[] for _ in range(num_subsections)]\n",
    "    for embedding in embeddings:\n",
    "        subsections = [embedding[i:i + M] for i in range(0, len(embedding), M)]\n",
    "        for i in range(len(subsections)):\n",
    "            split_embeddings[i].append(subsections[i])\n",
    "\n",
    "    print(f\"Performing k means search with k = {k}\")\n",
    "    embeddings_as_centroid_ids = [[] for _ in range(len(embeddings))]\n",
    "\n",
    "    # given a subsection index and a centroid id within that subsection, return the centroid\n",
    "    # codebooks = [\n",
    "    #   [centroid0, centroid1, ..., centroidk], # subsection_0\n",
    "    #   [centroid0, centroid1, ..., centroidk], # subsection_1\n",
    "    #   ...\n",
    "    #   [centroid0, centroid1, ..., centroidk], # subsection_num_subsections\n",
    "    # ]\n",
    "    codebooks = [[] for _ in range(num_subsections)]\n",
    "    section_index = 0\n",
    "    for section in split_embeddings:\n",
    "        print(f\"Starting k means for section {section_index}\")\n",
    "        X = np.array(section)\n",
    "        kmeans = FaissKMeans(n_clusters=k)\n",
    "        kmeans.fit(X)\n",
    "        labels = kmeans.predict(X)\n",
    "        centroids = kmeans.cluster_centers_\n",
    "        if silhouette_scoring:\n",
    "            return silhouette_score(X, kmeans.labels_, metric='euclidean')\n",
    "        if inertia_scoring:\n",
    "            return kmeans.inertia_\n",
    "        for i in range(len(labels)):\n",
    "            centroid_id = labels[i]\n",
    "            embeddings_as_centroid_ids[i].append(centroid_id[0])\n",
    "        for i in range(len(centroids)):\n",
    "            codebooks[section_index].append(centroids[i])\n",
    "        section_index += 1\n",
    "\n",
    "    return embeddings_as_centroid_ids, codebooks"
   ],
   "outputs": [],
   "metadata": {}
  },
  {
   "cell_type": "code",
   "execution_count": 38,
   "source": [
    "# verified output from example here: https://scikit-learn.org/stable/modules/generated/sklearn.cluster.KMeans.html\n",
    "product_quantization([[1, 2], [1, 4], [1, 0], [10, 2], [10, 4], [10, 0]], 1, 2, verbose=True)"
   ],
   "outputs": [
    {
     "output_type": "stream",
     "name": "stdout",
     "text": [
      "Splitting 6 embeddings of size 2 into 2 subsections of size 1\n",
      "Performing k means search with k = 2\n",
      "Starting k means for section 0\n",
      "performing k means with ... on section 0\n",
      "Starting k means for section 1\n",
      "performing k means with ... on section 1\n"
     ]
    },
    {
     "output_type": "execute_result",
     "data": {
      "text/plain": [
       "([[1, 0], [1, 0], [1, 1], [0, 0], [0, 0], [0, 1]],\n",
       " [[array([10.]), array([1.])], [array([3.]), array([0.])]])"
      ]
     },
     "metadata": {},
     "execution_count": 38
    }
   ],
   "metadata": {}
  },
  {
   "cell_type": "code",
   "execution_count": 42,
   "source": [
    "# testing faiss\n",
    "product_quantization([[1, 2], [1, 4], [1, 0], [10, 2], [10, 4], [10, 0]], 1, 2, verbose=True)"
   ],
   "outputs": [
    {
     "output_type": "stream",
     "name": "stdout",
     "text": [
      "Splitting 6 embeddings of size 2 into 2 subsections of size 1\n",
      "Performing k means search with k = 2\n",
      "Starting k means for section 0\n",
      "Starting k means for section 1\n"
     ]
    },
    {
     "output_type": "execute_result",
     "data": {
      "text/plain": [
       "([[0, 0], [0, 0], [0, 1], [1, 0], [1, 0], [1, 1]],\n",
       " [[array([1.], dtype=float32), array([10.], dtype=float32)],\n",
       "  [array([3.], dtype=float32), array([0.], dtype=float32)]])"
      ]
     },
     "metadata": {},
     "execution_count": 42
    }
   ],
   "metadata": {}
  },
  {
   "cell_type": "code",
   "execution_count": 45,
   "source": [
    "# same example as above. with subsections of size M=2, centroids should be the same as above but repeated for the 2 subsections\n",
    "product_quantization([[1, 2, 1, 2], [1, 4, 1, 4], [1, 0, 1, 0], [10, 2, 1, 1], [10, 4, 10, 4], [10, 0, 10, 0]], 2, 2, verbose=True)"
   ],
   "outputs": [
    {
     "output_type": "stream",
     "name": "stdout",
     "text": [
      "Splitting 6 embeddings of size 4 into 2 subsections of size 2\n",
      "Performing k means search with k = 2\n",
      "Starting k means for section 0\n",
      "Starting k means for section 1\n"
     ]
    },
    {
     "output_type": "execute_result",
     "data": {
      "text/plain": [
       "([[0, 0], [0, 0], [0, 0], [1, 0], [1, 1], [1, 1]],\n",
       " [[array([1., 2.], dtype=float32), array([10.,  2.], dtype=float32)],\n",
       "  [array([1.  , 1.75], dtype=float32), array([10.,  2.], dtype=float32)]])"
      ]
     },
     "metadata": {},
     "execution_count": 45
    }
   ],
   "metadata": {}
  },
  {
   "cell_type": "code",
   "execution_count": 43,
   "source": [
    "quantized, codebooks = product_quantization([[1, 2, 1, 2, 10, 2], [1, 4, 1, 4, 10, 4], [1, 0, 1, 0, 10, 0], [10, 2, 10, 2, 1, 2], [10, 4, 10, 4, 1, 4], [10, 0, 10, 0, 1, 0]], 3, 2, verbose=True)\n",
    "quantized, codebooks"
   ],
   "outputs": [
    {
     "output_type": "stream",
     "name": "stdout",
     "text": [
      "Splitting 6 embeddings of size 6 into 2 subsections of size 3\n",
      "Performing k means search with k = 2\n",
      "Starting k means for section 0\n",
      "Starting k means for section 1\n"
     ]
    },
    {
     "output_type": "execute_result",
     "data": {
      "text/plain": [
       "([[0, 0], [0, 0], [0, 0], [1, 1], [1, 1], [1, 1]],\n",
       " [[array([1., 2., 1.], dtype=float32), array([10.,  2., 10.], dtype=float32)],\n",
       "  [array([ 2., 10.,  2.], dtype=float32), array([2., 1., 2.], dtype=float32)]])"
      ]
     },
     "metadata": {},
     "execution_count": 43
    }
   ],
   "metadata": {}
  },
  {
   "cell_type": "markdown",
   "source": [
    "# Theoretical Memory Use\n",
    "* The size of the new centroid_id based embedding table should be N embeddings times (D / M) dimensional vectors times k for size of integers as opposed to N * D * 32\n",
    "* The size of the codebooks should be \n"
   ],
   "metadata": {}
  },
  {
   "cell_type": "markdown",
   "source": [
    "# Silhouette Method and Elbow Method to determine optimal k for k-Means\n",
    "\n",
    "Very low silhouette scores and the lack of abnormal drops in the inertia curve signals to me that there is no single \"best\" value of k for k means. Given these observations, choosing k=256 seems to be the most moderate choice in balancing embedding variance and compression. K=256 also seems to be a good choice for the \"elbow\" of the inertia curve. "
   ],
   "metadata": {}
  },
  {
   "cell_type": "code",
   "execution_count": 11,
   "source": [
    "# import random\n",
    "# sampled_embeddings = random.sample(embeddings, 10000)\n",
    "# silhouette_scores = []\n",
    "# for k in [16, 32, 64, 128, 256, 512, 1024, 2048, 4096, 8192]:\n",
    "#     silhouette_scores.append(product_quantization(sampled_embeddings, M=10, k=k, silhouette_scoring=True))\n",
    "# silhouette_scores\n",
    "# [0.07371708125729268,\n",
    "#  0.06497374546551112,\n",
    "#  0.06076052094252413,\n",
    "#  0.06372546359032381,\n",
    "#  0.06776646181674541,\n",
    "#  0.07199628263885234,\n",
    "#  0.07976291826725852,\n",
    "#  0.08442804342327115,\n",
    "#  0.0766254825841382,\n",
    "#  0.04187258368671491]"
   ],
   "outputs": [],
   "metadata": {}
  },
  {
   "cell_type": "code",
   "execution_count": 12,
   "source": [
    "# distortion_scores = []\n",
    "# for k in [16, 32, 64, 90, 128, 180, 256, 375, 512, 1024, 2048, 4096]:\n",
    "#    distortion_scores.append(product_quantization(sampled_embeddings, M=10, k=k, inertia_scoring=True))\n",
    "# distortion_scores"
   ],
   "outputs": [],
   "metadata": {}
  },
  {
   "cell_type": "code",
   "execution_count": 4,
   "source": [
    "# import matplotlib.pyplot as plt\n",
    "# plt.scatter([16, 32, 64, 90, 128, 180, 256, 375, 512, 1024, 2048, 4096], distortion_scores, marker='o');\n",
    "import numpy as np"
   ],
   "outputs": [],
   "metadata": {}
  },
  {
   "cell_type": "code",
   "execution_count": 13,
   "source": [
    "quantized, codebooks = product_quantization([[1.4, 2.77, 5], [3, 4, 7], [6, 8, 3], [5.5, 8, 2]], M=1, k=2)\n",
    "print(codebooks)\n",
    "keys = [1, 2]"
   ],
   "outputs": [
    {
     "output_type": "stream",
     "name": "stdout",
     "text": [
      "Splitting 4 embeddings of size 3 into 3 subsections of size 1\n",
      "Performing k means search with k = 2\n",
      "Starting k means for section 0\n",
      "Starting k means for section 1\n",
      "Starting k means for section 2\n",
      "[[array([2.2]), array([5.75])], [array([3.385]), array([8.])], [array([6.]), array([2.5])]]\n"
     ]
    }
   ],
   "metadata": {}
  },
  {
   "cell_type": "code",
   "execution_count": 14,
   "source": [
    "np.savetxt('data/word2vec/keys.txt', np.array(keys), fmt=\"%s\")\n",
    "np.savetxt('data/word2vec/quantized.txt', quantized, fmt='%i')\n",
    "np.savetxt('data/word2vec/codebooks.txt', np.array(codebooks).reshape(np.array(codebooks).shape[0], -1), fmt='%1.3f')\n",
    "print(len(codebooks[0][0]))"
   ],
   "outputs": [
    {
     "output_type": "stream",
     "name": "stdout",
     "text": [
      "1\n"
     ]
    }
   ],
   "metadata": {}
  },
  {
   "cell_type": "code",
   "execution_count": 4,
   "source": [
    "f = open('data/word2vec/quantized.txt', encoding = \"ISO-8859-1\")\n",
    "line = f.readlines()[0]\n",
    "print(len(line.split(\" \")))"
   ],
   "outputs": [
    {
     "output_type": "stream",
     "name": "stdout",
     "text": [
      "5\n"
     ]
    }
   ],
   "metadata": {}
  },
  {
   "cell_type": "code",
   "execution_count": null,
   "source": [],
   "outputs": [],
   "metadata": {}
  }
 ],
 "metadata": {
  "orig_nbformat": 4,
  "language_info": {
   "name": "python",
   "version": "3.8.5",
   "mimetype": "text/x-python",
   "codemirror_mode": {
    "name": "ipython",
    "version": 3
   },
   "pygments_lexer": "ipython3",
   "nbconvert_exporter": "python",
   "file_extension": ".py"
  },
  "kernelspec": {
   "name": "python3",
   "display_name": "Python 3.8.5 64-bit ('base': conda)"
  },
  "interpreter": {
   "hash": "5a1608ae420dd187210501042ddeb7b9cb7830639774376034512fccc868bd09"
  }
 },
 "nbformat": 4,
 "nbformat_minor": 2
}