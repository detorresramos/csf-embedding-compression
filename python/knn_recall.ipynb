{
 "cells": [
  {
   "cell_type": "code",
   "execution_count": 2,
   "metadata": {},
   "outputs": [
    {
     "name": "stdout",
     "output_type": "stream",
     "text": [
      "Keys: <KeysViewHDF5 ['distances', 'neighbors', 'test', 'train']>\n"
     ]
    }
   ],
   "source": [
    "import h5py\n",
    "\n",
    "with h5py.File(\"data/sift/sift-128-euclidean.hdf5\", \"r\") as f:\n",
    "    # List all groups\n",
    "    print(\"Keys: %s\" % f.keys())\n",
    "    distances = list(f.keys())[0]\n",
    "    neighbors = list(f.keys())[1]\n",
    "    test = list(f.keys())[2]\n",
    "    train = list(f.keys())[3]\n",
    "\n",
    "    # Get the data\n",
    "    train = list(f[train])\n",
    "    distances = list(f[distances])\n",
    "    neighbors = list(f[neighbors])\n",
    "    test = list(f[test])"
   ]
  },
  {
   "cell_type": "code",
   "execution_count": 5,
   "metadata": {},
   "outputs": [
    {
     "data": {
      "text/plain": [
       "array([  0.,  16.,  35.,   5.,  32.,  31.,  14.,  10.,  11.,  78.,  55.,\n",
       "        10.,  45.,  83.,  11.,   6.,  14.,  57., 102.,  75.,  20.,   8.,\n",
       "         3.,   5.,  67.,  17.,  19.,  26.,   5.,   0.,   1.,  22.,  60.,\n",
       "        26.,   7.,   1.,  18.,  22.,  84.,  53.,  85., 119., 119.,   4.,\n",
       "        24.,  18.,   7.,   7.,   1.,  81., 106., 102.,  72.,  30.,   6.,\n",
       "         0.,   9.,   1.,   9., 119.,  72.,   1.,   4.,  33., 119.,  29.,\n",
       "         6.,   1.,   0.,   1.,  14.,  52., 119.,  30.,   3.,   0.,   0.,\n",
       "        55.,  92., 111.,   2.,   5.,   4.,   9.,  22.,  89.,  96.,  14.,\n",
       "         1.,   0.,   1.,  82.,  59.,  16.,  20.,   5.,  25.,  14.,  11.,\n",
       "         4.,   0.,   0.,   1.,  26.,  47.,  23.,   4.,   0.,   0.,   4.,\n",
       "        38.,  83.,  30.,  14.,   9.,   4.,   9.,  17.,  23.,  41.,   0.,\n",
       "         0.,   2.,   8.,  19.,  25.,  23.,   1.], dtype=float32)"
      ]
     },
     "execution_count": 5,
     "metadata": {},
     "output_type": "execute_result"
    }
   ],
   "source": [
    "# we have 10000 test vectors\n",
    "# for each of those vectors we have their 100 closest neighbors in order from closest to farthest\n",
    "# we also have their distances away from each of these 100 neighbors\n",
    "train[0]"
   ]
  },
  {
   "cell_type": "code",
   "execution_count": 12,
   "metadata": {},
   "outputs": [],
   "source": [
    "# read in all the quantized vectors and codebooks\n",
    "# create the approximate vectors in place (retaining indices)\n",
    "# take that X and do np.argmin(np.linalg.norm(X - queries))\n",
    "from collections import defaultdict\n",
    "from heapq import heappush, heappop\n",
    "import numpy as np\n",
    "\n",
    "def readQuantAndCodes(rootDirectory, M):\n",
    "    quantFile = rootDirectory + \"quantized.txt\"\n",
    "    codesFile = rootDirectory + \"codebooks.txt\"\n",
    "    quantizedVectors = []\n",
    "    codebooks = defaultdict(list)\n",
    "    with open(quantFile, \"r\") as f:\n",
    "        lines = f.readlines()\n",
    "        for line in lines:\n",
    "            quantizedVectors.append([int(x) for x in line.split(\" \")])\n",
    "\n",
    "    with open(codesFile, \"r\") as f:\n",
    "        lines = f.readlines()\n",
    "        codebook_index = 0\n",
    "        for line in lines:\n",
    "            centroids_in_column = []\n",
    "            whole_line_as_ints = [float(x) for x in line.split(\" \")]\n",
    "            index = 0\n",
    "            for i in range(256):\n",
    "                centroid = []\n",
    "                for j in range(M):\n",
    "                    centroid.append(whole_line_as_ints[index])\n",
    "                    index += 1\n",
    "                codebooks[codebook_index].append(centroid)\n",
    "            codebook_index += 1\n",
    "\n",
    "    return quantizedVectors, codebooks\n",
    "\n",
    "\n",
    "for M in [64]:\n",
    "    quantizedVectors, codebooks = readQuantAndCodes(f\"data/sift/testing/testing_M{M}/\", M)\n",
    "    full_quantized = []\n",
    "    for vector in quantizedVectors:\n",
    "        actual_vector = []\n",
    "        for i in range(len(vector)):\n",
    "            for code in codebooks[i][vector[i]]:\n",
    "                actual_vector.append(code)\n",
    "        full_quantized.append(actual_vector)\n",
    "    \n",
    "    actual_neighbors_pq = []\n",
    "    for i1, vector1 in enumerate(test):\n",
    "        # for each query vector, find distance between all vectors\n",
    "        # enter into a heap of size 100\n",
    "        heap = []\n",
    "        for i2, vector2 in enumerate(full_quantized):\n",
    "            dist = np.linalg.norm(vector1 - vector2)\n",
    "            if len(heap) == 100:\n",
    "                if -dist > heap[0][0]:\n",
    "                    heappop(heap)\n",
    "                    heappush(heap, (-dist, i1, i2))\n",
    "            else:\n",
    "                heappush(heap, (-dist, i1, i2))\n",
    "        closest_neighbors = [x[2] for x in heap]\n",
    "        actual_neighbors_pq.append(closest_neighbors)\n"
   ]
  },
  {
   "cell_type": "code",
   "execution_count": 11,
   "metadata": {},
   "outputs": [
    {
     "data": {
      "text/plain": [
       "128"
      ]
     },
     "execution_count": 11,
     "metadata": {},
     "output_type": "execute_result"
    }
   ],
   "source": [
    "neighbors"
   ]
  },
  {
   "cell_type": "code",
   "execution_count": null,
   "metadata": {},
   "outputs": [],
   "source": []
  }
 ],
 "metadata": {
  "interpreter": {
   "hash": "ec45d513f91af3fa73d2a6491e4593b2144b3268bc664facfb4253809511fada"
  },
  "kernelspec": {
   "display_name": "Python 3.8.5 64-bit ('myenv': conda)",
   "language": "python",
   "name": "python3"
  },
  "language_info": {
   "codemirror_mode": {
    "name": "ipython",
    "version": 3
   },
   "file_extension": ".py",
   "mimetype": "text/x-python",
   "name": "python",
   "nbconvert_exporter": "python",
   "pygments_lexer": "ipython3",
   "version": "3.8.5"
  },
  "orig_nbformat": 4
 },
 "nbformat": 4,
 "nbformat_minor": 2
}
