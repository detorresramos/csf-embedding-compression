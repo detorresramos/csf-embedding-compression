{
 "cells": [
  {
   "cell_type": "markdown",
   "metadata": {},
   "source": [
    "# Product Quantization"
   ]
  },
  {
   "cell_type": "code",
   "execution_count": 1,
   "metadata": {},
   "outputs": [],
   "source": [
    "# English CoNLL17 corpus, Word2Vec Continuous Skipgram, 4027169 word embeddings \n",
    "# from http://vectors.nlpl.eu/repository/\n",
    "f = open('data/word2vec/model.txt', encoding = \"ISO-8859-1\")\n",
    "lines = f.readlines()"
   ]
  },
  {
   "cell_type": "code",
   "execution_count": 1,
   "metadata": {},
   "outputs": [
    {
     "ename": "SyntaxError",
     "evalue": "invalid syntax (2071990274.py, line 3)",
     "output_type": "error",
     "traceback": [
      "\u001b[0;36m  Input \u001b[0;32mIn [1]\u001b[0;36m\u001b[0m\n\u001b[0;31m    print(lines[3])\u001b[0m\n\u001b[0m    ^\u001b[0m\n\u001b[0;31mSyntaxError\u001b[0m\u001b[0;31m:\u001b[0m invalid syntax\n"
     ]
    }
   ],
   "source": [
    "print(len(lines))\n",
    "print(lines[0]\n",
    "print(lines[3])"
   ]
  },
  {
   "cell_type": "code",
   "execution_count": null,
   "metadata": {},
   "outputs": [],
   "source": [
    "import numpy as np\n",
    "\n",
    "keys = []\n",
    "embeddings = []\n",
    "for i in range(1, 100001): # use len(lines) for the whole table, testing on first 1000000\n",
    "    line = lines[i].split(\" \")\n",
    "    keys.append(line[0])\n",
    "    embeddings.append(line[1:-1])"
   ]
  },
  {
   "cell_type": "code",
   "execution_count": 4,
   "metadata": {},
   "outputs": [],
   "source": [
    "keys = []\n",
    "embeddings = []\n",
    "with open(\"data/genomes/genomes_minH_block100.npy.xz\", encoding=\"ISO-8859-1\") as infile:\n",
    "    first = True\n",
    "    for line in infile:\n",
    "        if first:\n",
    "            first = False\n",
    "        else:\n",
    "            vector = line.split(\" \")\n",
    "            keys.append(vector[0])\n",
    "            embeddings.append(vector[1:-1])"
   ]
  },
  {
   "cell_type": "code",
   "execution_count": 25,
   "metadata": {},
   "outputs": [],
   "source": [
    "import faiss\n",
    "\n",
    "class FaissKMeans:\n",
    "    def __init__(self, n_clusters=8, n_init=10, max_iter=300):\n",
    "        self.n_clusters = n_clusters\n",
    "        self.n_init = n_init\n",
    "        self.max_iter = max_iter\n",
    "        self.kmeans = None\n",
    "        self.cluster_centers_ = None\n",
    "        self.inertia_ = None\n",
    "\n",
    "    def fit(self, X):\n",
    "        self.kmeans = faiss.Kmeans(d=X.shape[1],\n",
    "                                   k=self.n_clusters,\n",
    "                                   niter=self.max_iter,\n",
    "                                   nredo=self.n_init)\n",
    "        self.kmeans.train(X.astype(np.float32))\n",
    "        self.cluster_centers_ = self.kmeans.centroids\n",
    "        self.inertia_ = self.kmeans.obj[-1]\n",
    "\n",
    "    def predict(self, X):\n",
    "        return self.kmeans.index.search(X.astype(np.float32), 1)[1]"
   ]
  },
  {
   "cell_type": "code",
   "execution_count": 41,
   "metadata": {},
   "outputs": [],
   "source": [
    "import math\n",
    "from sklearn.metrics import silhouette_score\n",
    "\n",
    "def product_quantization(embeddings, M, k, verbose=False, silhouette_scoring=False, inertia_scoring=False):\n",
    "    \"\"\"\n",
    "    embeddings: embedding vectors\n",
    "    M: size of vector subsections\n",
    "    k: number of clusters for k-means clustering\n",
    "\n",
    "    Runs product quantization on the embeddings.\n",
    "    Returns each embedding as an array of integers, each representing the id of a centroid in that region\n",
    "    \"\"\"\n",
    "    # build split embeddings\n",
    "    # split_embeddings[i] -> list of vectors, each which represents the ith section of M units of embeddings\n",
    "    num_subsections = math.ceil(len(embeddings[0]) / M)\n",
    "    print(\n",
    "        f\"Splitting {len(embeddings)} embeddings of size {len(embeddings[0])} into {num_subsections} subsections of size {M}\")\n",
    "    split_embeddings = [[] for _ in range(num_subsections)]\n",
    "    for embedding in embeddings:\n",
    "        subsections = [embedding[i:i + M] for i in range(0, len(embedding), M)]\n",
    "        for i in range(len(subsections)):\n",
    "            split_embeddings[i].append(subsections[i])\n",
    "\n",
    "    print(f\"Performing k means search with k = {k}\")\n",
    "    embeddings_as_centroid_ids = [[] for _ in range(len(embeddings))]\n",
    "\n",
    "    # given a subsection index and a centroid id within that subsection, return the centroid\n",
    "    # codebooks = [\n",
    "    #   [centroid0, centroid1, ..., centroidk], # subsection_0\n",
    "    #   [centroid0, centroid1, ..., centroidk], # subsection_1\n",
    "    #   ...\n",
    "    #   [centroid0, centroid1, ..., centroidk], # subsection_num_subsections\n",
    "    # ]\n",
    "    codebooks = [[] for _ in range(num_subsections)]\n",
    "    section_index = 0\n",
    "    for section in split_embeddings:\n",
    "        print(f\"Starting k means for section {section_index}\")\n",
    "        X = np.array(section)\n",
    "        kmeans = FaissKMeans(n_clusters=k)\n",
    "        kmeans.fit(X)\n",
    "        labels = kmeans.predict(X)\n",
    "        centroids = kmeans.cluster_centers_\n",
    "        if silhouette_scoring:\n",
    "            return silhouette_score(X, kmeans.labels_, metric='euclidean')\n",
    "        if inertia_scoring:\n",
    "            return kmeans.inertia_\n",
    "        for i in range(len(labels)):\n",
    "            centroid_id = labels[i]\n",
    "            embeddings_as_centroid_ids[i].append(centroid_id[0])\n",
    "        for i in range(len(centroids)):\n",
    "            codebooks[section_index].append(centroids[i])\n",
    "        section_index += 1\n",
    "\n",
    "    return embeddings_as_centroid_ids, codebooks"
   ]
  },
  {
   "cell_type": "code",
   "execution_count": null,
   "metadata": {},
   "outputs": [],
   "source": [
    "# verified output from example here: https://scikit-learn.org/stable/modules/generated/sklearn.cluster.KMeans.html\n",
    "# product_quantization([[1, 2], [1, 4], [1, 0], [10, 2], [10, 4], [10, 0]], 1, 2, verbose=True)"
   ]
  },
  {
   "cell_type": "code",
   "execution_count": null,
   "metadata": {},
   "outputs": [],
   "source": [
    "# testing faiss\n",
    "# product_quantization([[1, 2], [1, 4], [1, 0], [10, 2], [10, 4], [10, 0]], 1, 2, verbose=True)"
   ]
  },
  {
   "cell_type": "code",
   "execution_count": null,
   "metadata": {},
   "outputs": [],
   "source": [
    "# same example as above. with subsections of size M=2, centroids should be the same as above but repeated for the 2 subsections\n",
    "# product_quantization([[1, 2, 1, 2], [1, 4, 1, 4], [1, 0, 1, 0], [10, 2, 1, 1], [10, 4, 10, 4], [10, 0, 10, 0]], 2, 2, verbose=True)"
   ]
  },
  {
   "cell_type": "code",
   "execution_count": null,
   "metadata": {},
   "outputs": [],
   "source": [
    "quantized, codebooks = product_quantization([[1, 2, 1, 2, 10, 2], [1, 4, 1, 4, 10, 4], [1, 0, 1, 0, 10, 0], [10, 2, 10, 2, 1, 2], [10, 4, 10, 4, 1, 4], [10, 0, 10, 0, 1, 0]], 3, 2, verbose=True)\n"
   ]
  },
  {
   "cell_type": "markdown",
   "metadata": {},
   "source": [
    "# Theoretical Memory Use\n",
    "* The size of the new centroid_id based embedding table should be N embeddings times (D / M) dimensional vectors times k for size of integers as opposed to N * D * 32\n",
    "* The size of the codebooks should be \n"
   ]
  },
  {
   "cell_type": "markdown",
   "metadata": {},
   "source": [
    "# Silhouette Method and Elbow Method to determine optimal k for k-Means\n",
    "\n",
    "Very low silhouette scores and the lack of abnormal drops in the inertia curve signals to me that there is no single \"best\" value of k for k means. Given these observations, choosing k=256 seems to be the most moderate choice in balancing embedding variance and compression. K=256 also seems to be a good choice for the \"elbow\" of the inertia curve. "
   ]
  },
  {
   "cell_type": "code",
   "execution_count": null,
   "metadata": {},
   "outputs": [],
   "source": [
    "# import random\n",
    "# sampled_embeddings = random.sample(embeddings, 10000)\n",
    "# silhouette_scores = []\n",
    "# for k in [16, 32, 64, 128, 256, 512, 1024, 2048, 4096, 8192]:\n",
    "#     silhouette_scores.append(product_quantization(sampled_embeddings, M=10, k=k, silhouette_scoring=True))\n",
    "# silhouette_scores\n",
    "# [0.07371708125729268,\n",
    "#  0.06497374546551112,\n",
    "#  0.06076052094252413,\n",
    "#  0.06372546359032381,\n",
    "#  0.06776646181674541,\n",
    "#  0.07199628263885234,\n",
    "#  0.07976291826725852,\n",
    "#  0.08442804342327115,\n",
    "#  0.0766254825841382,\n",
    "#  0.04187258368671491]"
   ]
  },
  {
   "cell_type": "code",
   "execution_count": null,
   "metadata": {},
   "outputs": [],
   "source": [
    "# distortion_scores = []\n",
    "# for k in [16, 32, 64, 90, 128, 180, 256, 375, 512, 1024, 2048, 4096]:\n",
    "#    distortion_scores.append(product_quantization(sampled_embeddings, M=10, k=k, inertia_scoring=True))\n",
    "# distortion_scores"
   ]
  },
  {
   "cell_type": "code",
   "execution_count": null,
   "metadata": {},
   "outputs": [],
   "source": [
    "# import matplotlib.pyplot as plt\n",
    "# plt.scatter([16, 32, 64, 90, 128, 180, 256, 375, 512, 1024, 2048, 4096], distortion_scores, marker='o');\n",
    "import numpy as np"
   ]
  },
  {
   "cell_type": "code",
   "execution_count": null,
   "metadata": {},
   "outputs": [],
   "source": [
    "quantized, codebooks = product_quantization([[1.4, 2.77, 5], [3, 4, 7], [6, 8, 3], [5.5, 8, 2]], M=1, k=2)\n",
    "print(codebooks)\n",
    "keys = [1, 2]"
   ]
  },
  {
   "cell_type": "code",
   "execution_count": null,
   "metadata": {},
   "outputs": [],
   "source": [
    "np.savetxt('data/word2vec/keys.txt', np.array(keys), fmt=\"%s\")\n",
    "np.savetxt('data/word2vec/quantized.txt', quantized, fmt='%i')\n",
    "np.savetxt('data/word2vec/codebooks.txt', np.array(codebooks).reshape(np.array(codebooks).shape[0], -1), fmt='%1.3f')\n",
    "print(len(codebooks[0][0]))"
   ]
  },
  {
   "cell_type": "code",
   "execution_count": null,
   "metadata": {},
   "outputs": [],
   "source": [
    "f = open('data/word2vec/quantized.txt', encoding = \"ISO-8859-1\")\n",
    "line = f.readlines()[0]\n",
    "print(len(line.split(\" \")))"
   ]
  },
  {
   "cell_type": "code",
   "execution_count": 13,
   "metadata": {},
   "outputs": [],
   "source": [
    "import numpy as np\n",
    "result = np.load(\"/home/det4/embedding/data/amazonPolarity/amazon_polarity_test.npy\", allow_pickle=True)\n",
    "np.savetxt(\"/home/det4/embedding/data/amazonPolarity/amazon_polarity_test.txt\", result, fmt='%i')"
   ]
  },
  {
   "cell_type": "code",
   "execution_count": 14,
   "metadata": {},
   "outputs": [],
   "source": [
    "import numpy as np\n",
    "result = np.load(\"/home/det4/embedding/data/genomes/genomes_minH_block100.npy\", allow_pickle=True)\n",
    "np.savetxt(\"/home/det4/embedding/data/genomes/genomes_minH_block100.txt\", result, fmt='%i')"
   ]
  },
  {
   "cell_type": "code",
   "execution_count": null,
   "metadata": {},
   "outputs": [],
   "source": []
  }
 ],
 "metadata": {
  "interpreter": {
   "hash": "31f2aee4e71d21fbe5cf8b01ff0e069b9275f58929596ceb00d14d90e3e16cd6"
  },
  "kernelspec": {
   "display_name": "Python 3.8.2 64-bit",
   "name": "python3"
  },
  "language_info": {
   "codemirror_mode": {
    "name": "ipython",
    "version": 3
   },
   "file_extension": ".py",
   "mimetype": "text/x-python",
   "name": "python",
   "nbconvert_exporter": "python",
   "pygments_lexer": "ipython3",
   "version": "3.8.5"
  },
  "orig_nbformat": 4
 },
 "nbformat": 4,
 "nbformat_minor": 2
}
